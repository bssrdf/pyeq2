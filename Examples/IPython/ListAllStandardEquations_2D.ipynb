{
 "metadata": {
  "name": "",
  "signature": "sha256:53d86303728cfec446ab70b1f09cb9bd37c682b84af03a00ac8c385cdfdbd891"
 },
 "nbformat": 3,
 "nbformat_minor": 0,
 "worksheets": [
  {
   "cells": [
    {
     "cell_type": "code",
     "collapsed": false,
     "input": [
      "from __future__ import print_function\n",
      "from __future__ import unicode_literals\n",
      "from __future__ import absolute_import\n",
      "\n",
      "# ensure pyeq2 can be imported\n",
      "import os, sys, inspect\n",
      "currentDir = os.getcwd()\n",
      "if -1 != currentDir.find('pyeq2-master'): raise Exception('Please rename git checkout directory from \"pyeq2-master\" to \"pyeq2\"')\n",
      "pyeq2IimportDir =  os.path.dirname(os.path.dirname(os.path.dirname(currentDir)))\n",
      "if pyeq2IimportDir not in sys.path: sys.path.append(pyeq2IimportDir)\n",
      "import pyeq2"
     ],
     "language": "python",
     "metadata": {},
     "outputs": []
    },
    {
     "cell_type": "code",
     "collapsed": false,
     "input": [],
     "language": "python",
     "metadata": {},
     "outputs": []
    },
    {
     "cell_type": "code",
     "collapsed": false,
     "input": [
      "htmlToReturn = '' # build this as we progress\n",
      "\n",
      "htmlToReturn += '<table border=1>'\n",
      "\n",
      "for submodule in inspect.getmembers(pyeq2.Models_2D): # 2D equations in this example\n",
      "    if inspect.ismodule(submodule[1]):\n",
      "        for equationClass in inspect.getmembers(submodule[1]):\n",
      "            if inspect.isclass(equationClass[1]):\n",
      "                for extendedVersionName in ['Default', 'Offset']:\n",
      "                    if (-1 != extendedVersionName.find('Offset')) and (equationClass[1].autoGenerateOffsetForm == False):\n",
      "                        continue\n",
      "\n",
      "                    equation = equationClass[1]('SSQABS', extendedVersionName)\n",
      "                    htmlToReturn += '<tr>'\n",
      "                    htmlToReturn += '<td nowrap>2D ' + submodule[0] + '</td>'\n",
      "                    htmlToReturn += '<td nowrap>' + equation.GetDisplayName() + '</td>'\n",
      "                    htmlToReturn += '<td nowrap>' + equation.GetDisplayHTML() + '</td>'\n",
      "                    htmlToReturn += '</tr>'\n",
      "\n",
      "htmlToReturn += '</table>'\n",
      "\n",
      "from IPython.core.display import HTML\n",
      "HTML(htmlToReturn)\n",
      "\n"
     ],
     "language": "python",
     "metadata": {},
     "outputs": []
    }
   ],
   "metadata": {}
  }
 ]
}