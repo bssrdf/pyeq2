{
 "metadata": {
  "name": "",
  "signature": "sha256:ff340e863a303d4799edc32ed0dafc04af067cd9a924332688c647c80c159e34"
 },
 "nbformat": 3,
 "nbformat_minor": 0,
 "worksheets": [
  {
   "cells": [
    {
     "cell_type": "code",
     "collapsed": false,
     "input": [
      "from __future__ import print_function\n",
      "from __future__ import unicode_literals\n",
      "from __future__ import absolute_import\n",
      "\n",
      "# ensure pyeq2 can be imported\n",
      "import os, sys\n",
      "currentDir = os.getcwd()\n",
      "if -1 != currentDir.find('pyeq2-master'): raise Exception('Please rename git checkout directory from \"pyeq2-master\" to \"pyeq2\"')\n",
      "pyeq2IimportDir =  os.path.dirname(os.path.dirname(os.path.dirname(currentDir)))\n",
      "if pyeq2IimportDir not in sys.path: sys.path.append(pyeq2IimportDir)\n",
      "import pyeq2"
     ],
     "language": "python",
     "metadata": {},
     "outputs": []
    },
    {
     "cell_type": "code",
     "collapsed": false,
     "input": [
      "data = '''\n",
      "  X        Y\n",
      "5.357    10.376\n",
      "5.457    10.489\n",
      "5.797    10.874\n",
      "5.936    11.049\n",
      "6.161    11.327\n",
      "6.697    12.054\n",
      "6.731    12.077\n",
      "6.775    12.138\n",
      "8.442    14.744\n",
      "9.769    17.068\n",
      "9.861    17.104\n",
      "'''"
     ],
     "language": "python",
     "metadata": {},
     "outputs": []
    },
    {
     "cell_type": "code",
     "collapsed": false,
     "input": [
      "# see IModel.fittingTargetDictionary\n",
      "equation = pyeq2.Models_2D.Polynomial.Cubic('SSQABS')"
     ],
     "language": "python",
     "metadata": {},
     "outputs": []
    },
    {
     "cell_type": "code",
     "collapsed": false,
     "input": [
      " # check for functions requiring non-zero nor non-negative data such as 1/x, etc.\n",
      "try:\n",
      "    pyeq2.dataConvertorService().ConvertAndSortColumnarASCII(data, equation, False)\n",
      "except:\n",
      "    raise Exception(equation.reasonWhyDataRejected)"
     ],
     "language": "python",
     "metadata": {},
     "outputs": []
    },
    {
     "cell_type": "code",
     "collapsed": false,
     "input": [
      "equation.Solve()"
     ],
     "language": "python",
     "metadata": {},
     "outputs": []
    },
    {
     "cell_type": "code",
     "collapsed": false,
     "input": [
      "print(equation.GetDisplayName(), str(equation.GetDimensionality()) + \"D\")\n",
      "print(equation.fittingTargetDictionary[equation.fittingTarget], '=', equation.CalculateAllDataFittingTarget(equation.solvedCoefficients))\n",
      "print(\"Fitted Parameters:\")\n",
      "for i in range(len(equation.solvedCoefficients)):\n",
      "    print(\"    %s = %-.16E\" % (equation.GetCoefficientDesignators()[i], equation.solvedCoefficients[i]))\n"
     ],
     "language": "python",
     "metadata": {},
     "outputs": []
    },
    {
     "cell_type": "code",
     "collapsed": false,
     "input": [
      "equation.CalculateModelErrors(equation.solvedCoefficients, equation.dataCache.allDataCacheDictionary)\n",
      "print('Predicted Values And Errors')\n",
      "for i in range(len(equation.dataCache.allDataCacheDictionary['DependentData'])):\n",
      "    print('X:', equation.dataCache.allDataCacheDictionary['IndependentData'][0][i],)\n",
      "    print('Y:', equation.dataCache.allDataCacheDictionary['DependentData'][i],)\n",
      "    print('Model:', equation.modelPredictions[i],)\n",
      "    print('Abs. Error:', equation.modelAbsoluteError[i],)\n",
      "    if not equation.dataCache.DependentDataContainsZeroFlag:\n",
      "        print('Rel. Error:', equation.modelRelativeError[i],)\n",
      "        print('Percent Error:', equation.modelPercentError[i])\n",
      "    else:\n",
      "        print()\n",
      "print()\n"
     ],
     "language": "python",
     "metadata": {},
     "outputs": []
    },
    {
     "cell_type": "code",
     "collapsed": false,
     "input": [
      "print('Coefficient and Fit Statistics')\n",
      "equation.CalculateCoefficientAndFitStatistics()\n",
      "if equation.upperCoefficientBounds or equation.lowerCoefficientBounds:\n",
      "    print('You entered coefficient bounds. Parameter statistics may')\n",
      "    print('not be valid for parameter values at or near the bounds.')\n",
      "    print()\n",
      "\n",
      "print('Degress of freedom error',  equation.df_e)\n",
      "print('Degress of freedom regression',  equation.df_r)\n",
      "\n",
      "if equation.rmse == None:\n",
      "    print('Root Mean Squared Error (RMSE): n/a')\n",
      "else:\n",
      "    print('Root Mean Squared Error (RMSE):',  equation.rmse)\n",
      "\n",
      "if equation.r2 == None:\n",
      "    print('R-squared: n/a')\n",
      "else:\n",
      "    print('R-squared:',  equation.r2)\n",
      "\n",
      "if equation.r2adj == None:\n",
      "    print('R-squared adjusted: n/a')\n",
      "else:\n",
      "    print('R-squared adjusted:',  equation.r2adj)\n",
      "\n",
      "if equation.Fstat == None:\n",
      "    print('Model F-statistic: n/a')\n",
      "else:\n",
      "    print('Model F-statistic:',  equation.Fstat)\n",
      "\n",
      "if equation.Fpv == None:\n",
      "    print('Model F-statistic p-value: n/a')\n",
      "else:\n",
      "    print('Model F-statistic p-value:',  equation.Fpv)\n",
      "\n",
      "if equation.ll == None:\n",
      "    print('Model log-likelihood: n/a')\n",
      "else:\n",
      "    print('Model log-likelihood:',  equation.ll)\n",
      "\n",
      "if equation.aic == None:\n",
      "    print('Model AIC: n/a')\n",
      "else:\n",
      "    print('Model AIC:',  equation.aic)\n",
      "\n",
      "if equation.bic == None:\n",
      "    print('Model BIC: n/a')\n",
      "else:\n",
      "    print('Model BIC:',  equation.bic)\n",
      "\n",
      "\n",
      "print()\n",
      "print(\"Individual Parameter Statistics:\")\n",
      "for i in range(len(equation.solvedCoefficients)):\n",
      "    if equation.tstat_beta == None:\n",
      "        tstat = 'n/a'\n",
      "    else:\n",
      "        tstat = '%-.5E' %  ( equation.tstat_beta[i])\n",
      "\n",
      "    if equation.pstat_beta == None:\n",
      "        pstat = 'n/a'\n",
      "    else:\n",
      "        pstat = '%-.5E' %  ( equation.pstat_beta[i])\n",
      "\n",
      "    if equation.sd_beta != None:\n",
      "        print(\"Coefficient %s = %-.16E, std error: %-.5E\" % (equation.GetCoefficientDesignators()[i], equation.solvedCoefficients[i], equation.sd_beta[i]))\n",
      "    else:\n",
      "        print(\"Coefficient %s = %-.16E, std error: n/a\" % (equation.GetCoefficientDesignators()[i], equation.solvedCoefficients[i]))\n",
      "    print(\"          t-stat: %s, p-stat: %s, 95 percent confidence intervals: [%-.5E, %-.5E]\" % (tstat,  pstat, equation.ci[i][0], equation.ci[i][1]))\n",
      "\n",
      "\n",
      "print()\n",
      "print(\"Coefficient Covariance Matrix:\")\n",
      "for i in  equation.cov_beta:\n",
      "    print(i)\n"
     ],
     "language": "python",
     "metadata": {},
     "outputs": []
    },
    {
     "cell_type": "code",
     "collapsed": false,
     "input": [
      "print(pyeq2.outputSourceCodeService().GetOutputSourceCodeCPP(equation))\n",
      "print(pyeq2.outputSourceCodeService().GetOutputSourceCodeCSHARP(equation))\n",
      "print(pyeq2.outputSourceCodeService().GetOutputSourceCodeVBA(equation))\n",
      "print(pyeq2.outputSourceCodeService().GetOutputSourceCodePYTHON(equation))\n",
      "print(pyeq2.outputSourceCodeService().GetOutputSourceCodeJAVA(equation))\n",
      "print(pyeq2.outputSourceCodeService().GetOutputSourceCodeJAVASCRIPT(equation))\n",
      "print(pyeq2.outputSourceCodeService().GetOutputSourceCodeSCILAB(equation))\n",
      "print(pyeq2.outputSourceCodeService().GetOutputSourceCodeMATLAB(equation))\n",
      "print(pyeq2.outputSourceCodeService().GetOutputSourceCodeJULIA(equation))\n",
      "print(pyeq2.outputSourceCodeService().GetOutputSourceCodeFORTRAN90(equation))"
     ],
     "language": "python",
     "metadata": {},
     "outputs": []
    }
   ],
   "metadata": {}
  }
 ]
}