{
 "metadata": {
  "name": "",
  "signature": "sha256:ea24afc3ebdc8e8bb2606746599b781824de6a8fac880b5c2d45c96cc99b6dcf"
 },
 "nbformat": 3,
 "nbformat_minor": 0,
 "worksheets": [
  {
   "cells": [
    {
     "cell_type": "code",
     "collapsed": false,
     "input": [
      "from __future__ import print_function\n",
      "from __future__ import unicode_literals\n",
      "from __future__ import absolute_import\n",
      "\n",
      "# ensure pyeq2 can be imported\n",
      "import os, sys\n",
      "currentDir = os.getcwd()\n",
      "if -1 != currentDir.find('pyeq2-master'): raise Exception('Please rename git checkout directory from \"pyeq2-master\" to \"pyeq2\"')\n",
      "pyeq2IimportDir =  os.path.dirname(os.path.dirname(os.path.dirname(currentDir)))\n",
      "if pyeq2IimportDir not in sys.path: sys.path.append(pyeq2IimportDir)\n",
      "import pyeq2"
     ],
     "language": "python",
     "metadata": {},
     "outputs": []
    },
    {
     "cell_type": "code",
     "collapsed": false,
     "input": [
      "data = '''\n",
      "    X      Y       Z\n",
      "  3.017  2.175   0.320\n",
      "  2.822  2.624   0.629\n",
      "  2.632  2.839   0.950\n",
      "  2.287  3.030   1.574\n",
      "  2.207  3.057   1.725\n",
      "  2.048  3.098   2.035\n",
      "  1.963  3.115   2.204\n",
      "  1.784  3.144   2.570\n",
      "  1.712  3.153   2.721\n",
      "  2.972  2.106   0.313\n",
      "  2.719  2.542   0.643\n",
      "  2.495  2.721   0.956\n",
      "  2.070  2.878   1.597\n",
      "  1.969  2.899   1.758\n",
      "  1.768  2.929   2.088\n",
      "  1.677  2.939   2.240\n",
      "  1.479  2.957   2.583\n",
      "  1.387  2.963   2.744\n",
      "  2.843  1.984   0.315\n",
      "  2.485  2.320   0.639\n",
      "  2.163  2.444   0.954\n",
      "  1.687  2.525   1.459\n",
      "  1.408  2.547   1.775\n",
      "  1.279  2.554   1.927\n",
      "  1.016  2.564   2.243\n",
      "  0.742  2.568   2.581\n",
      "  0.607  2.571   2.753\n",
      "'''"
     ],
     "language": "python",
     "metadata": {},
     "outputs": []
    },
    {
     "cell_type": "code",
     "collapsed": false,
     "input": [
      "# see IModel.fittingTargetDictionary\n",
      "equation = pyeq2.Models_3D.Polynomial.SimplifiedQuadratic('SSQABS')"
     ],
     "language": "python",
     "metadata": {},
     "outputs": []
    },
    {
     "cell_type": "code",
     "collapsed": false,
     "input": [
      " # check for functions requiring non-zero nor non-negative data such as 1/x, etc.\n",
      "try:\n",
      "    pyeq2.dataConvertorService().ConvertAndSortColumnarASCII(data, equation, False)\n",
      "except:\n",
      "    raise Exception(equation.reasonWhyDataRejected)"
     ],
     "language": "python",
     "metadata": {},
     "outputs": []
    },
    {
     "cell_type": "code",
     "collapsed": false,
     "input": [
      "equation.Solve()\n",
      "equation.CalculateModelErrors(equation.solvedCoefficients, equation.dataCache.allDataCacheDictionary)\n",
      "equation.CalculateCoefficientAndFitStatistics()"
     ],
     "language": "python",
     "metadata": {},
     "outputs": []
    },
    {
     "cell_type": "code",
     "collapsed": false,
     "input": [],
     "language": "python",
     "metadata": {},
     "outputs": []
    },
    {
     "cell_type": "code",
     "collapsed": false,
     "input": [
      "%matplotlib inline\n",
      "import matplotlib\n",
      "import matplotlib.pyplot as plt\n",
      "from mpl_toolkits.mplot3d import Axes3D # 3D apecific\n",
      "from matplotlib import cm # to colormap from blue to red\n",
      "import numpy, scipy\n",
      "\n",
      "# raw data for scatterplot and data limits\n",
      "x_data = equation.dataCache.allDataCacheDictionary['IndependentData'][0]\n",
      "y_data = equation.dataCache.allDataCacheDictionary['IndependentData'][1]\n",
      "z_data = equation.dataCache.allDataCacheDictionary['DependentData']\n",
      "\n",
      "# now create data for the fitted equation plot\n",
      "xModel = numpy.linspace(min(x_data), max(x_data), 20)\n",
      "yModel = numpy.linspace(min(y_data), max(y_data), 20)\n",
      "X, Y = numpy.meshgrid(xModel, yModel)\n",
      "\n",
      "tempcache = equation.dataCache\n",
      "equation.dataCache = pyeq2.dataCache()\n",
      "equation.dataCache.allDataCacheDictionary['IndependentData'] = numpy.array([X, Y])\n",
      "equation.dataCache.FindOrCreateAllDataCache(equation)\n",
      "Z = equation.CalculateModelPredictions(equation.solvedCoefficients, equation.dataCache.allDataCacheDictionary)\n",
      "equation.dataCache = tempcache\n",
      "\n",
      "fig = plt.figure()\n",
      "ax = fig.gca(projection='3d')\n",
      "\n",
      "ax.plot_surface(X, Y, Z, rstride=1, cstride=1, cmap=cm.coolwarm,\n",
      "        linewidth=1, antialiased=True)\n",
      "\n",
      "ax.scatter(x_data, y_data, z_data)\n",
      "\n",
      "ax.set_title('Example Surface Plot') # add a title for surface plot\n",
      "ax.set_xlabel('X Data') # X axis data label\n",
      "ax.set_ylabel('Y Data') # Y axis data label\n",
      "ax.set_zlabel('Z Data') # Z axis data label\n",
      "\n",
      "plt.tight_layout() # prevents cropping axis labels"
     ],
     "language": "python",
     "metadata": {},
     "outputs": []
    }
   ],
   "metadata": {}
  }
 ]
}