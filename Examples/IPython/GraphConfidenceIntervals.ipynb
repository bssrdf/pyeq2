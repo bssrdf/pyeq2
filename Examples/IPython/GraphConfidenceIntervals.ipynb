{
 "metadata": {
  "name": "",
  "signature": "sha256:466b7929e6af53da906854caa0e03db4152893406295f069a3ac86c945a5127e"
 },
 "nbformat": 3,
 "nbformat_minor": 0,
 "worksheets": [
  {
   "cells": [
    {
     "cell_type": "code",
     "collapsed": false,
     "input": [
      "from __future__ import print_function\n",
      "from __future__ import unicode_literals\n",
      "from __future__ import absolute_import\n",
      "\n",
      "# ensure pyeq2 can be imported\n",
      "import os, sys\n",
      "currentDir = os.getcwd()\n",
      "if -1 != currentDir.find('pyeq2-master'): raise Exception('Please rename git checkout directory from \"pyeq2-master\" to \"pyeq2\"')\n",
      "pyeq2IimportDir =  os.path.dirname(os.path.dirname(os.path.dirname(currentDir)))\n",
      "if pyeq2IimportDir not in sys.path: sys.path.append(pyeq2IimportDir)\n",
      "import pyeq2"
     ],
     "language": "python",
     "metadata": {},
     "outputs": [],
     "prompt_number": 89
    },
    {
     "cell_type": "code",
     "collapsed": false,
     "input": [
      "data = '''\n",
      "  X        Y\n",
      "5.357    10.376\n",
      "5.457    10.489\n",
      "5.797    10.874\n",
      "5.936    11.049\n",
      "6.161    11.327\n",
      "6.697    12.054\n",
      "6.731    12.077\n",
      "6.775    12.138\n",
      "8.442    14.744\n",
      "9.769    17.068\n",
      "9.861    17.104\n",
      "'''"
     ],
     "language": "python",
     "metadata": {},
     "outputs": [],
     "prompt_number": 90
    },
    {
     "cell_type": "code",
     "collapsed": false,
     "input": [
      "# see IModel.fittingTargetDictionary\n",
      "equation = pyeq2.Models_2D.Polynomial.Linear('SSQABS') # straight line\n",
      "#equation = pyeq2.Models_2D.Exponential.Exponential('SSQABS', 'Offset') # exponential with offset"
     ],
     "language": "python",
     "metadata": {},
     "outputs": [],
     "prompt_number": 91
    },
    {
     "cell_type": "code",
     "collapsed": false,
     "input": [
      " # check for functions requiring non-zero nor non-negative data such as 1/x, etc.\n",
      "try:\n",
      "    pyeq2.dataConvertorService().ConvertAndSortColumnarASCII(data, equation, False)\n",
      "except:\n",
      "    raise Exception(equation.reasonWhyDataRejected)"
     ],
     "language": "python",
     "metadata": {},
     "outputs": [],
     "prompt_number": 92
    },
    {
     "cell_type": "code",
     "collapsed": false,
     "input": [
      "equation.Solve()\n",
      "equation.CalculateModelErrors(equation.solvedCoefficients, equation.dataCache.allDataCacheDictionary)\n",
      "equation.CalculateCoefficientAndFitStatistics()"
     ],
     "language": "python",
     "metadata": {},
     "outputs": [],
     "prompt_number": 93
    },
    {
     "cell_type": "code",
     "collapsed": false,
     "input": [],
     "language": "python",
     "metadata": {},
     "outputs": [],
     "prompt_number": 93
    },
    {
     "cell_type": "code",
     "collapsed": false,
     "input": [
      "%matplotlib inline\n",
      "import matplotlib\n",
      "import matplotlib.pyplot as plt\n",
      "import numpy, scipy\n",
      "\n",
      "# raw data for scatterplot and data limits\n",
      "x_data = equation.dataCache.allDataCacheDictionary['IndependentData'][0]\n",
      "y_data = equation.dataCache.allDataCacheDictionary['DependentData']\n",
      "\n",
      "# now create data for the fitted equation plot\n",
      "xModel = numpy.linspace(min(x_data), max(x_data))\n",
      "\n",
      "tempcache = equation.dataCache\n",
      "equation.dataCache = pyeq2.dataCache()\n",
      "equation.dataCache.allDataCacheDictionary['IndependentData'] = numpy.array([xModel, xModel])\n",
      "equation.dataCache.FindOrCreateAllDataCache(equation)\n",
      "yModel = equation.CalculateModelPredictions(equation.solvedCoefficients, equation.dataCache.allDataCacheDictionary)\n",
      "equation.dataCache = tempcache\n",
      "\n",
      "fig = plt.figure()\n",
      "ax = fig.add_subplot(1,1,1)\n",
      "\n",
      "# first the raw data as a scatter plot\n",
      "ax.plot(x_data, y_data,  'D')\n",
      "\n",
      "# now the model as a line plot\n",
      "ax.plot(xModel, yModel)\n",
      "\n",
      "# now calculate confidence intervals\n",
      "# http://support.sas.com/documentation/cdl/en/statug/63347/HTML/default/viewer.htm#statug_nlin_sect026.htm\n",
      "# http://www.staff.ncl.ac.uk/tom.holderness/software/pythonlinearfit\n",
      "mean_x = numpy.mean(x_data)\t\t\t# mean of x\n",
      "n = equation.nobs\t\t    # number of samples in the origional fit\n",
      "\n",
      "t_value = scipy.stats.t.ppf(0.975, equation.df_e) # (1.0 - (a/2)) is used for two-sided t-test critical value, here a = 0.05\n",
      "\n",
      "confs = t_value * numpy.sqrt((equation.sumOfSquaredErrors/equation.df_e)*(1.0/n + (numpy.power((xModel-mean_x),2.0)/\n",
      "                            ((numpy.sum(numpy.power(x_data,2)))-n*(numpy.power(mean_x,2.0))))))\n",
      "\n",
      "# get lower and upper confidence limits based on predicted y and confidence intervals\n",
      "upper = yModel + abs(confs)\n",
      "lower = yModel - abs(confs)\n",
      "\n",
      "# mask off any numbers outside the existing plot limits\n",
      "booleanMask = yModel > matplotlib.pyplot.ylim()[0]\n",
      "booleanMask &= (yModel < matplotlib.pyplot.ylim()[1])\n",
      "\n",
      "# color scheme improves visibility on black background lines or points\n",
      "ax.plot(xModel[booleanMask], lower[booleanMask], linestyle='solid', color='white')\n",
      "ax.plot(xModel[booleanMask], upper[booleanMask], linestyle='solid', color='white')\n",
      "ax.plot(xModel[booleanMask], lower[booleanMask], linestyle='dashed', color='blue')\n",
      "ax.plot(xModel[booleanMask], upper[booleanMask], linestyle='dashed', color='blue')\n",
      "\n",
      "ax.set_title('Model with 95 percent confidence intervals') # add a title\n",
      "ax.set_xlabel('X Data') # X axis data label\n",
      "ax.set_ylabel('Y Data') # Y axis data label\n",
      "\n",
      "plt.tight_layout() # prevents cropping axis labels"
     ],
     "language": "python",
     "metadata": {},
     "outputs": [
      {
       "metadata": {},
       "output_type": "display_data",
       "png": "[encoded data removed]",
       "text": [
        "<matplotlib.figure.Figure at 0x7f157b1719d0>"
       ]
      }
     ],
     "prompt_number": 94
    }
   ],
   "metadata": {}
  }
 ]
}